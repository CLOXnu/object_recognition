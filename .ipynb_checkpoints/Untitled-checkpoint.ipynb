{
 "cells": [
  {
   "cell_type": "code",
   "execution_count": 1,
   "metadata": {},
   "outputs": [],
   "source": [
    "import pathlib\n",
    "import random\n",
    "\n",
    "import tensorflow as tf\n",
    "import numpy as np\n",
    "from tensorflow.keras import models, layers\n",
    "from tensorflow.keras.preprocessing.image import ImageDataGenerator\n",
    "\n",
    "import os\n",
    "import matplotlib.pyplot as plt"
   ]
  },
  {
   "cell_type": "code",
   "execution_count": 2,
   "metadata": {},
   "outputs": [],
   "source": [
    "AUTOTUNE = tf.data.experimental.AUTOTUNE"
   ]
  },
  {
   "cell_type": "code",
   "execution_count": 3,
   "metadata": {},
   "outputs": [],
   "source": [
    "checkpoint_path = 'training/'\n",
    "train_path = 'picture/train'\n",
    "val_path = 'picture/validation'\n",
    "num_train = 492\n",
    "num_val = 181\n",
    "batch_size = 32\n",
    "epochs = 4\n",
    "IMG_HEIGHT = 192\n",
    "IMG_WIDTH = 192"
   ]
  },
  {
   "cell_type": "code",
   "execution_count": 4,
   "metadata": {},
   "outputs": [],
   "source": [
    "def load_gen():\n",
    "    train_image_gen = ImageDataGenerator(\n",
    "        rescale=1./255,\n",
    "        rotation_range=45,\n",
    "        width_shift_range=.15,\n",
    "        height_shift_range=.15,\n",
    "        horizontal_flip=True,\n",
    "        zoom_range=0.5)\n",
    "\n",
    "    val_image_gen = ImageDataGenerator(rescale=1./255)\n",
    "\n",
    "    train_data_gen = train_image_gen.flow_from_directory(\n",
    "        batch_size=batch_size,\n",
    "        directory=train_path,\n",
    "        shuffle=True,\n",
    "        target_size=(IMG_HEIGHT, IMG_WIDTH),\n",
    "        class_mode='sparse')\n",
    "\n",
    "    val_data_gen = val_image_gen.flow_from_directory(\n",
    "        batch_size=batch_size,\n",
    "        directory=val_path,\n",
    "        target_size=(IMG_HEIGHT, IMG_WIDTH),\n",
    "        class_mode='sparse')\n",
    "\n",
    "    return (train_data_gen, val_data_gen)"
   ]
  },
  {
   "cell_type": "code",
   "execution_count": 5,
   "metadata": {},
   "outputs": [],
   "source": [
    "def create_model():\n",
    "    mobile_net = tf.keras.applications.MobileNetV2(input_shape=(IMG_HEIGHT, IMG_WIDTH, 3), include_top=False)\n",
    "    mobile_net.trainable=False\n",
    "\n",
    "    model = models.Sequential([\n",
    "        mobile_net,\n",
    "        layers.GlobalAveragePooling2D(),\n",
    "        layers.Dense(16, activation = 'softmax')\n",
    "        # layers.Conv2D(16, 3, padding='same', activation='relu', input_shape=(IMG_HEIGHT, IMG_WIDTH, 3)),\n",
    "        # layers.MaxPooling2D(),\n",
    "        # layers.Dropout(0.2),\n",
    "        # layers.Conv2D(32, 3, padding='same', activation='relu'),\n",
    "        # layers.MaxPooling2D(),\n",
    "        # layers.Conv2D(64, 3, padding='same', activation='relu'),\n",
    "        # layers.MaxPooling2D(),\n",
    "        # layers.Dropout(0.2),\n",
    "        # layers.Flatten(),\n",
    "        # layers.Dense(512, activation='relu'),\n",
    "        # layers.Dense(16, activation='softmax')\n",
    "    ])\n",
    "    model.compile(\n",
    "        optimizer='adam',\n",
    "        loss='sparse_categorical_crossentropy',\n",
    "        metrics=['accuracy'])\n",
    "    return model"
   ]
  },
  {
   "cell_type": "code",
   "execution_count": 6,
   "metadata": {},
   "outputs": [],
   "source": [
    "def train(train_data_gen, val_data_gen):\n",
    "    model = create_model()\n",
    "    model.summary()\n",
    "\n",
    "    eachcheckpoint_path = checkpoint_path + \"cp-{epoch:01d}.ckpt\"\n",
    "    cp_callback = tf.keras.callbacks.ModelCheckpoint(\n",
    "        filepath=checkpoint_path,\n",
    "        verbose=1,\n",
    "        save_weights_only=True,\n",
    "        period=2)\n",
    "\n",
    "    model_log = model.fit_generator(\n",
    "        train_data_gen,\n",
    "        steps_per_epoch=num_train,\n",
    "        epochs=epochs,\n",
    "        callbacks=[cp_callback],\n",
    "        validation_data=val_data_gen,\n",
    "        validation_steps=num_val\n",
    "    )\n",
    "    return model_log"
   ]
  },
  {
   "cell_type": "code",
   "execution_count": 7,
   "metadata": {},
   "outputs": [],
   "source": [
    "def plot_curve(model_log):\n",
    "    acc = model_log.history['accuracy']\n",
    "    val_acc = model_log.history['val_accuracy']\n",
    "\n",
    "    loss = model_log.history['loss']\n",
    "    val_loss = model_log.history['val_loss']\n",
    "\n",
    "    epochs_range = range(2)\n",
    "\n",
    "    plt.figure(figsize=(8, 8))\n",
    "    plt.subplot(2, 1, 1)\n",
    "    plt.plot(epochs_range, acc, label='Training Accuracy')\n",
    "    plt.plot(epochs_range, val_acc, label='Validation Accuracy')\n",
    "    plt.legend(loc='lower right')\n",
    "    plt.title('Accuracy')\n",
    "\n",
    "    plt.subplot(2, 1, 2)\n",
    "    plt.plot(epochs_range, loss, label='Training Loss')\n",
    "    plt.plot(epochs_range, val_loss, label='Validation Loss')\n",
    "    plt.legend(loc='upper right')\n",
    "    plt.title('Loss')\n",
    "    plt.savefig('pic_A&L.jpg')\n",
    "    plt.show()"
   ]
  },
  {
   "cell_type": "code",
   "execution_count": 8,
   "metadata": {},
   "outputs": [],
   "source": [
    "def save_weights(model):\n",
    "    model.save_weights(checkpoint_path + 'weights')\n",
    "\n",
    "def load_weights(model):\n",
    "    model.load_weights(checkpoint_path + 'weights')\n",
    "    return model\n",
    "\n",
    "def save_model(model):\n",
    "    model.save(checkpoint_path + 'model.h5')"
   ]
  },
  {
   "cell_type": "markdown",
   "metadata": {},
   "source": [
    "### Training..."
   ]
  },
  {
   "cell_type": "code",
   "execution_count": 9,
   "metadata": {},
   "outputs": [
    {
     "name": "stdout",
     "output_type": "stream",
     "text": [
      "Found 492 images belonging to 16 classes.\n",
      "Found 181 images belonging to 16 classes.\n"
     ]
    }
   ],
   "source": [
    "train_gen, val_gan = load_gen()"
   ]
  },
  {
   "cell_type": "code",
   "execution_count": 10,
   "metadata": {},
   "outputs": [],
   "source": [
    "model = create_model()"
   ]
  },
  {
   "cell_type": "code",
   "execution_count": 11,
   "metadata": {},
   "outputs": [
    {
     "name": "stdout",
     "output_type": "stream",
     "text": [
      "Model: \"sequential_1\"\n",
      "_________________________________________________________________\n",
      "Layer (type)                 Output Shape              Param #   \n",
      "=================================================================\n",
      "mobilenetv2_1.00_192 (Model) (None, 6, 6, 1280)        2257984   \n",
      "_________________________________________________________________\n",
      "global_average_pooling2d_1 ( (None, 1280)              0         \n",
      "_________________________________________________________________\n",
      "dense_1 (Dense)              (None, 16)                20496     \n",
      "=================================================================\n",
      "Total params: 2,278,480\n",
      "Trainable params: 20,496\n",
      "Non-trainable params: 2,257,984\n",
      "_________________________________________________________________\n",
      "WARNING:tensorflow:From <ipython-input-6-971ece9ffbb6>:18: Model.fit_generator (from tensorflow.python.keras.engine.training) is deprecated and will be removed in a future version.\n",
      "Instructions for updating:\n",
      "Please use Model.fit, which supports generators.\n",
      "WARNING:tensorflow:sample_weight modes were coerced from\n",
      "  ...\n",
      "    to  \n",
      "  ['...']\n",
      "WARNING:tensorflow:sample_weight modes were coerced from\n",
      "  ...\n",
      "    to  \n",
      "  ['...']\n",
      "Train for 492 steps, validate for 181 steps\n",
      "Epoch 1/4\n",
      "\n",
      "Epoch 00001: saving model to training/\n",
      "  1/492 [..............................] - ETA: 50:30 - loss: 2.9578 - accuracy: 0.0625\n",
      "Epoch 00001: saving model to training/\n",
      "  2/492 [..............................] - ETA: 38:14 - loss: 3.1263 - accuracy: 0.0625\n",
      "Epoch 00001: saving model to training/\n",
      "  3/492 [..............................] - ETA: 33:38 - loss: 3.0669 - accuracy: 0.0625\n",
      "Epoch 00001: saving model to training/\n",
      "  4/492 [..............................] - ETA: 31:32 - loss: 3.1015 - accuracy: 0.0625\n",
      "Epoch 00001: saving model to training/\n",
      "  5/492 [..............................] - ETA: 29:47 - loss: 2.9549 - accuracy: 0.0938\n",
      "Epoch 00001: saving model to training/\n",
      "  6/492 [..............................] - ETA: 28:42 - loss: 2.8859 - accuracy: 0.0990\n",
      "Epoch 00001: saving model to training/\n",
      "  7/492 [..............................] - ETA: 28:01 - loss: 2.8512 - accuracy: 0.1027\n",
      "Epoch 00001: saving model to training/\n",
      "  8/492 [..............................] - ETA: 27:27 - loss: 2.7815 - accuracy: 0.1211\n",
      "Epoch 00001: saving model to training/\n",
      "  9/492 [..............................] - ETA: 25:16 - loss: 2.7592 - accuracy: 0.1269\n",
      "Epoch 00001: saving model to training/\n",
      " 10/492 [..............................] - ETA: 25:06 - loss: 2.6991 - accuracy: 0.1533\n",
      "Epoch 00001: saving model to training/\n",
      " 11/492 [..............................] - ETA: 24:56 - loss: 2.6686 - accuracy: 0.1627\n",
      "Epoch 00001: saving model to training/\n",
      " 12/492 [..............................] - ETA: 24:44 - loss: 2.5991 - accuracy: 0.1923\n",
      "Epoch 00001: saving model to training/\n",
      " 13/492 [..............................] - ETA: 24:35 - loss: 2.5451 - accuracy: 0.2146\n",
      "Epoch 00001: saving model to training/\n",
      " 14/492 [..............................] - ETA: 24:25 - loss: 2.5080 - accuracy: 0.2243\n",
      "Epoch 00001: saving model to training/\n",
      " 15/492 [..............................] - ETA: 24:17 - loss: 2.4498 - accuracy: 0.2478\n",
      "Epoch 00001: saving model to training/\n",
      " 16/492 [..............................] - ETA: 24:08 - loss: 2.4074 - accuracy: 0.2683WARNING:tensorflow:Your input ran out of data; interrupting training. Make sure that your dataset or generator can generate at least `steps_per_epoch * epochs` batches (in this case, 1968 batches). You may need to use the repeat() function when building your dataset.\n",
      " 16/492 [..............................] - ETA: 24:10 - loss: 2.4070 - accuracy: 0.2683"
     ]
    }
   ],
   "source": [
    "model_log = train(train_gen, val_gan)"
   ]
  },
  {
   "cell_type": "code",
   "execution_count": 12,
   "metadata": {},
   "outputs": [],
   "source": [
    "save_weights(model)\n",
    "save_model(model)"
   ]
  },
  {
   "cell_type": "code",
   "execution_count": 13,
   "metadata": {},
   "outputs": [
    {
     "ename": "KeyError",
     "evalue": "'val_accuracy'",
     "output_type": "error",
     "traceback": [
      "\u001b[0;31m\u001b[0m",
      "\u001b[0;31mKeyError\u001b[0mTraceback (most recent call last)",
      "\u001b[0;32m<ipython-input-13-30220918cdc9>\u001b[0m in \u001b[0;36m<module>\u001b[0;34m\u001b[0m\n\u001b[0;32m----> 1\u001b[0;31m \u001b[0mplot_curve\u001b[0m\u001b[0;34m(\u001b[0m\u001b[0mmodel_log\u001b[0m\u001b[0;34m)\u001b[0m\u001b[0;34m\u001b[0m\u001b[0;34m\u001b[0m\u001b[0m\n\u001b[0m",
      "\u001b[0;32m<ipython-input-7-22ab48697216>\u001b[0m in \u001b[0;36mplot_curve\u001b[0;34m(model_log)\u001b[0m\n\u001b[1;32m      1\u001b[0m \u001b[0;32mdef\u001b[0m \u001b[0mplot_curve\u001b[0m\u001b[0;34m(\u001b[0m\u001b[0mmodel_log\u001b[0m\u001b[0;34m)\u001b[0m\u001b[0;34m:\u001b[0m\u001b[0;34m\u001b[0m\u001b[0;34m\u001b[0m\u001b[0m\n\u001b[1;32m      2\u001b[0m     \u001b[0macc\u001b[0m \u001b[0;34m=\u001b[0m \u001b[0mmodel_log\u001b[0m\u001b[0;34m.\u001b[0m\u001b[0mhistory\u001b[0m\u001b[0;34m[\u001b[0m\u001b[0;34m'accuracy'\u001b[0m\u001b[0;34m]\u001b[0m\u001b[0;34m\u001b[0m\u001b[0;34m\u001b[0m\u001b[0m\n\u001b[0;32m----> 3\u001b[0;31m     \u001b[0mval_acc\u001b[0m \u001b[0;34m=\u001b[0m \u001b[0mmodel_log\u001b[0m\u001b[0;34m.\u001b[0m\u001b[0mhistory\u001b[0m\u001b[0;34m[\u001b[0m\u001b[0;34m'val_accuracy'\u001b[0m\u001b[0;34m]\u001b[0m\u001b[0;34m\u001b[0m\u001b[0;34m\u001b[0m\u001b[0m\n\u001b[0m\u001b[1;32m      4\u001b[0m \u001b[0;34m\u001b[0m\u001b[0m\n\u001b[1;32m      5\u001b[0m     \u001b[0mloss\u001b[0m \u001b[0;34m=\u001b[0m \u001b[0mmodel_log\u001b[0m\u001b[0;34m.\u001b[0m\u001b[0mhistory\u001b[0m\u001b[0;34m[\u001b[0m\u001b[0;34m'loss'\u001b[0m\u001b[0;34m]\u001b[0m\u001b[0;34m\u001b[0m\u001b[0;34m\u001b[0m\u001b[0m\n",
      "\u001b[0;31mKeyError\u001b[0m: 'val_accuracy'"
     ]
    }
   ],
   "source": [
    "plot_curve(model_log)"
   ]
  },
  {
   "cell_type": "code",
   "execution_count": null,
   "metadata": {},
   "outputs": [],
   "source": []
  }
 ],
 "metadata": {
  "kernelspec": {
   "display_name": "Python 3",
   "language": "python",
   "name": "python3"
  },
  "language_info": {
   "codemirror_mode": {
    "name": "ipython",
    "version": 3
   },
   "file_extension": ".py",
   "mimetype": "text/x-python",
   "name": "python",
   "nbconvert_exporter": "python",
   "pygments_lexer": "ipython3",
   "version": "3.6.9"
  }
 },
 "nbformat": 4,
 "nbformat_minor": 4
}
