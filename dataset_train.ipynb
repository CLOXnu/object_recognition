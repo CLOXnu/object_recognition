{
 "nbformat": 4,
 "nbformat_minor": 2,
 "metadata": {
  "language_info": {
   "name": "python",
   "codemirror_mode": {
    "name": "ipython",
    "version": 3
   }
  },
  "orig_nbformat": 2,
  "file_extension": ".py",
  "mimetype": "text/x-python",
  "name": "python",
  "npconvert_exporter": "python",
  "pygments_lexer": "ipython3",
  "version": 3
 },
 "cells": [
  {
   "cell_type": "code",
   "execution_count": null,
   "metadata": {},
   "outputs": [],
   "source": [
    "import pathlib\n",
    "import random\n",
    "\n",
    "import tensorflow as tf\n",
    "import numpy as np\n",
    "from tensorflow.keras import models, layers\n",
    "from tensorflow.keras.preprocessing.image import ImageDataGenerator\n",
    "\n",
    "import os\n",
    "import matplotlib.pyplot as plt"
   ]
  },
  {
   "cell_type": "code",
   "execution_count": null,
   "metadata": {},
   "outputs": [],
   "source": [
    "AUTOTUNE = tf.data.experimental.AUTOTUNE"
   ]
  },
  {
   "cell_type": "code",
   "execution_count": null,
   "metadata": {},
   "outputs": [],
   "source": [
    "checkpoint_path = 'training/'\n",
    "train_path = 'picture/train'\n",
    "val_path = 'picture/validation'\n",
    "num_train = 492\n",
    "num_val = 181\n",
    "batch_size = 32\n",
    "epochs = 1\n",
    "IMG_HEIGHT = 192\n",
    "IMG_WIDTH = 192"
   ]
  },
  {
   "cell_type": "code",
   "execution_count": null,
   "metadata": {},
   "outputs": [],
   "source": [
    "def load_gen():\n",
    "    train_image_gen = ImageDataGenerator(\n",
    "        rescale=1./255,\n",
    "        rotation_range=45,\n",
    "        width_shift_range=.15,\n",
    "        height_shift_range=.15,\n",
    "        horizontal_flip=True,\n",
    "        zoom_range=0.5)\n",
    "\n",
    "    val_image_gen = ImageDataGenerator(rescale=1./255)\n",
    "\n",
    "    train_data_gen = train_image_gen.flow_from_directory(\n",
    "        batch_size=batch_size,\n",
    "        directory=train_path,\n",
    "        shuffle=True,\n",
    "        target_size=(IMG_HEIGHT, IMG_WIDTH),\n",
    "        class_mode='sparse')\n",
    "\n",
    "    val_data_gen = val_image_gen.flow_from_directory(\n",
    "        batch_size=batch_size,\n",
    "        directory=val_path,\n",
    "        target_size=(IMG_HEIGHT, IMG_WIDTH),\n",
    "        class_mode='sparse')\n",
    "\n",
    "    return (train_data_gen, val_data_gen)"
   ]
  },
  {
   "cell_type": "code",
   "execution_count": null,
   "metadata": {},
   "outputs": [],
   "source": [
    "def create_model():\n",
    "    mobile_net = tf.keras.applications.MobileNetV2(input_shape=(IMG_HEIGHT, IMG_WIDTH, 3), include_top=False)\n",
    "    mobile_net.trainable=False\n",
    "\n",
    "    model = models.Sequential([\n",
    "        mobile_net,\n",
    "        layers.GlobalAveragePooling2D(),\n",
    "        layers.Dense(16, activation = 'softmax')\n",
    "        # layers.Conv2D(16, 3, padding='same', activation='relu', input_shape=(IMG_HEIGHT, IMG_WIDTH, 3)),\n",
    "        # layers.MaxPooling2D(),\n",
    "        # layers.Dropout(0.2),\n",
    "        # layers.Conv2D(32, 3, padding='same', activation='relu'),\n",
    "        # layers.MaxPooling2D(),\n",
    "        # layers.Conv2D(64, 3, padding='same', activation='relu'),\n",
    "        # layers.MaxPooling2D(),\n",
    "        # layers.Dropout(0.2),\n",
    "        # layers.Flatten(),\n",
    "        # layers.Dense(512, activation='relu'),\n",
    "        # layers.Dense(16, activation='softmax')\n",
    "    ])\n",
    "    model.compile(\n",
    "        optimizer='adam',\n",
    "        loss='sparse_categorical_crossentropy',\n",
    "        metrics=['accuracy'])\n",
    "    return model"
   ]
  },
  {
   "cell_type": "code",
   "execution_count": null,
   "metadata": {},
   "outputs": [],
   "source": [
    "def train(train_data_gen, val_data_gen):\n",
    "    model = create_model()\n",
    "    model.summary()\n",
    "\n",
    "    eachcheckpoint_path = checkpoint_path + \"cp-{epoch:01d}.ckpt\"\n",
    "    cp_callback = tf.keras.callbacks.ModelCheckpoint(\n",
    "        filepath=checkpoint_path,\n",
    "        verbose=1,\n",
    "        save_weights_only=True,\n",
    "        period=2)\n",
    "\n",
    "    model_log = model.fit_generator(\n",
    "        train_data_gen,\n",
    "        steps_per_epoch=num_train,\n",
    "        epochs=epochs,\n",
    "        callbacks=[cp_callback],\n",
    "        validation_data=val_data_gen,\n",
    "        validation_steps=num_val\n",
    "    )\n",
    "    return model_log"
   ]
  },
  {
   "cell_type": "code",
   "execution_count": null,
   "metadata": {},
   "outputs": [],
   "source": [
    "def plot_curve(model_log):\n",
    "    acc = model_log.history['accuracy']\n",
    "    val_acc = model_log.history['val_accuracy']\n",
    "\n",
    "    loss = model_log.history['loss']\n",
    "    val_loss = model_log.history['val_loss']\n",
    "\n",
    "    epochs_range = range(2)\n",
    "\n",
    "    plt.figure(figsize=(8, 8))\n",
    "    plt.subplot(2, 1, 1)\n",
    "    plt.plot(epochs_range, acc, label='Training Accuracy')\n",
    "    plt.plot(epochs_range, val_acc, label='Validation Accuracy')\n",
    "    plt.legend(loc='lower right')\n",
    "    plt.title('Accuracy')\n",
    "\n",
    "    plt.subplot(2, 1, 2)\n",
    "    plt.plot(epochs_range, loss, label='Training Loss')\n",
    "    plt.plot(epochs_range, val_loss, label='Validation Loss')\n",
    "    plt.legend(loc='upper right')\n",
    "    plt.title('Loss')\n",
    "    plt.savefig('pic_A&L.jpg')\n",
    "    plt.show()"
   ]
  },
  {
   "cell_type": "code",
   "execution_count": null,
   "metadata": {},
   "outputs": [],
   "source": [
    "def save_weights(model):\n",
    "    model.save_weights(checkpoint_path + 'weights')\n",
    "\n",
    "def load_weights(model):\n",
    "    model.load_weights(checkpoint_path + 'weights')\n",
    "    return model\n",
    "\n",
    "def save_model(model):\n",
    "    model.save(checkpoint_path + 'model.h5')"
   ]
  },
  {
   "cell_type": "code",
   "execution_count": null,
   "metadata": {},
   "outputs": [],
   "source": [
    "def load_image(path):\n",
    "    image_raw = tf.io.read_file(path)\n",
    "    image = tf.image.decode_jpeg(image_raw, channels=3)\n",
    "    image = tf.image.resize(image, [IMG_HEIGHT, IMG_WIDTH])\n",
    "    image /= 255.0\n",
    "    return image"
   ]
  },
  {
   "cell_type": "code",
   "execution_count": null,
   "metadata": {},
   "outputs": [],
   "source": [
    "def dataset_from_dir(dir):\n",
    "    data_path = pathlib.Path(dir)\n",
    "    all_image_paths = list(data_path.glob('*/*'))\n",
    "    all_image_paths = [str(path) for path in all_image_paths]\n",
    "    random.shuffle(all_image_paths)\n",
    "\n",
    "    image_count = len(all_image_paths)\n",
    "    label_names = sorted(item.name for item in data_path.glob('*/') if item.is_dir())\n",
    "    label_to_index = dict((name, index) for index, name in enumerate(label_names))\n",
    "    all_image_labels = [label_to_index[pathlib.Path(path).parent.name] for path in all_image_paths]\n",
    "\n",
    "    ds = tf.data.Dataset.from_tensor_slices((all_image_paths, all_image_labels))\n",
    "    image_label_ds = ds.map(load_image)\n",
    "    image_label_ds = image_label_ds.shuffle(buffer_size=image_count).repeat()"
   ]
  },
  {
   "cell_type": "markdown",
   "execution_count": null,
   "metadata": {},
   "outputs": [],
   "source": [
    "### Training..."
   ]
  },
  {
   "cell_type": "code",
   "execution_count": null,
   "metadata": {},
   "outputs": [],
   "source": [
    "train_gen, val_gan = load_gen()"
   ]
  },
  {
   "cell_type": "code",
   "execution_count": null,
   "metadata": {},
   "outputs": [],
   "source": [
    "model = create_model()"
   ]
  },
  {
   "cell_type": "code",
   "execution_count": null,
   "metadata": {},
   "outputs": [],
   "source": [
    "model_log = train(train_gen, val_gan)"
   ]
  },
  {
   "cell_type": "code",
   "execution_count": null,
   "metadata": {},
   "outputs": [],
   "source": [
    "save_weights(model)\n",
    "save_model(model)"
   ]
  },
  {
   "cell_type": "code",
   "execution_count": null,
   "metadata": {},
   "outputs": [],
   "source": [
    "plot_curve(model_log)"
   ]
  }
 ]
}